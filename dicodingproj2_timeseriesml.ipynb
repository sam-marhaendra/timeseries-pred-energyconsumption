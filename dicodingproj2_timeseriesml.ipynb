{
  "nbformat": 4,
  "nbformat_minor": 0,
  "metadata": {
    "colab": {
      "provenance": []
    },
    "kernelspec": {
      "name": "python3",
      "display_name": "Python 3"
    },
    "language_info": {
      "name": "python"
    },
    "accelerator": "GPU",
    "gpuClass": "standard"
  },
  "cells": [
    {
      "cell_type": "markdown",
      "source": [
        "# **Dicoding Submission - Proyek Kedua : Membuat Model Machine Learning dengan Data Time Series**"
      ],
      "metadata": {
        "id": "fB85wxD7g_V_"
      }
    },
    {
      "cell_type": "markdown",
      "source": [
        "**Samatha Marhaendra Putra**\n",
        "\n",
        "Data Source: https://www.kaggle.com/datasets/jaganadhg/house-hold-energy-data"
      ],
      "metadata": {
        "id": "Y7FZFhfUhCqr"
      }
    },
    {
      "cell_type": "code",
      "execution_count": 1,
      "metadata": {
        "colab": {
          "base_uri": "https://localhost:8080/"
        },
        "id": "DLmzcWZBF6Sw",
        "outputId": "3d7a2609-f1a9-424c-984c-a442587adb3b"
      },
      "outputs": [
        {
          "output_type": "stream",
          "name": "stdout",
          "text": [
            "Looking in indexes: https://pypi.org/simple, https://us-python.pkg.dev/colab-wheels/public/simple/\n",
            "Requirement already satisfied: kaggle in /usr/local/lib/python3.7/dist-packages (1.5.12)\n",
            "Requirement already satisfied: certifi in /usr/local/lib/python3.7/dist-packages (from kaggle) (2022.6.15)\n",
            "Requirement already satisfied: urllib3 in /usr/local/lib/python3.7/dist-packages (from kaggle) (1.24.3)\n",
            "Requirement already satisfied: python-dateutil in /usr/local/lib/python3.7/dist-packages (from kaggle) (2.8.2)\n",
            "Requirement already satisfied: requests in /usr/local/lib/python3.7/dist-packages (from kaggle) (2.23.0)\n",
            "Requirement already satisfied: tqdm in /usr/local/lib/python3.7/dist-packages (from kaggle) (4.64.1)\n",
            "Requirement already satisfied: python-slugify in /usr/local/lib/python3.7/dist-packages (from kaggle) (6.1.2)\n",
            "Requirement already satisfied: six>=1.10 in /usr/local/lib/python3.7/dist-packages (from kaggle) (1.15.0)\n",
            "Requirement already satisfied: text-unidecode>=1.3 in /usr/local/lib/python3.7/dist-packages (from python-slugify->kaggle) (1.3)\n",
            "Requirement already satisfied: chardet<4,>=3.0.2 in /usr/local/lib/python3.7/dist-packages (from requests->kaggle) (3.0.4)\n",
            "Requirement already satisfied: idna<3,>=2.5 in /usr/local/lib/python3.7/dist-packages (from requests->kaggle) (2.10)\n"
          ]
        }
      ],
      "source": [
        "!pip install kaggle"
      ]
    },
    {
      "cell_type": "code",
      "source": [
        "!mkdir ~/.kaggle"
      ],
      "metadata": {
        "colab": {
          "base_uri": "https://localhost:8080/"
        },
        "id": "8X0cV0NYGDEv",
        "outputId": "9dd69054-ca20-4112-e8fa-36ba5210dc61"
      },
      "execution_count": 2,
      "outputs": [
        {
          "output_type": "stream",
          "name": "stdout",
          "text": [
            "mkdir: cannot create directory ‘/root/.kaggle’: File exists\n"
          ]
        }
      ]
    },
    {
      "cell_type": "code",
      "source": [
        "!cp kaggle.json ~/.kaggle/"
      ],
      "metadata": {
        "id": "qLD5XKL7GEGa"
      },
      "execution_count": 3,
      "outputs": []
    },
    {
      "cell_type": "code",
      "source": [
        "!chmod 600 ~/.kaggle/kaggle.json"
      ],
      "metadata": {
        "id": "TGG7fSTiGFWF"
      },
      "execution_count": 4,
      "outputs": []
    },
    {
      "cell_type": "code",
      "source": [
        "!kaggle datasets download -d jaganadhg/house-hold-energy-data -f D202.csv"
      ],
      "metadata": {
        "colab": {
          "base_uri": "https://localhost:8080/"
        },
        "id": "iRXnPDBgGGXS",
        "outputId": "7b469200-3f04-4343-ae14-d2c00640e7a8"
      },
      "execution_count": 5,
      "outputs": [
        {
          "output_type": "stream",
          "name": "stdout",
          "text": [
            "D202.csv.zip: Skipping, found more recently modified local copy (use --force to force download)\n"
          ]
        }
      ]
    },
    {
      "cell_type": "code",
      "source": [
        "!unzip /content/D202.csv.zip"
      ],
      "metadata": {
        "colab": {
          "base_uri": "https://localhost:8080/"
        },
        "id": "cNJU0OM0GHRL",
        "outputId": "efe1ded8-7ce0-498c-d1ae-3062d91304d7"
      },
      "execution_count": 6,
      "outputs": [
        {
          "output_type": "stream",
          "name": "stdout",
          "text": [
            "Archive:  /content/D202.csv.zip\n",
            "replace D202.csv? [y]es, [n]o, [A]ll, [N]one, [r]ename: y\n",
            "  inflating: D202.csv                \n"
          ]
        }
      ]
    },
    {
      "cell_type": "code",
      "source": [
        "import numpy as np\n",
        "import pandas as pd\n",
        "from keras.layers import Dense, LSTM\n",
        "import matplotlib.pyplot as plt\n",
        "import tensorflow as tf\n",
        "from sklearn.model_selection import train_test_split"
      ],
      "metadata": {
        "id": "PnIanJLEGX0e"
      },
      "execution_count": 7,
      "outputs": []
    },
    {
      "cell_type": "code",
      "source": [
        "df = pd.read_csv('/content/D202.csv')"
      ],
      "metadata": {
        "id": "5ANFCcItl2CS"
      },
      "execution_count": 8,
      "outputs": []
    },
    {
      "cell_type": "code",
      "source": [
        "df.info()"
      ],
      "metadata": {
        "colab": {
          "base_uri": "https://localhost:8080/"
        },
        "id": "QnhKjqyfHV3l",
        "outputId": "d2f8c0ed-7933-4397-9e19-0ff1c18d108c"
      },
      "execution_count": 9,
      "outputs": [
        {
          "output_type": "stream",
          "name": "stdout",
          "text": [
            "<class 'pandas.core.frame.DataFrame'>\n",
            "RangeIndex: 70368 entries, 0 to 70367\n",
            "Data columns (total 8 columns):\n",
            " #   Column      Non-Null Count  Dtype  \n",
            "---  ------      --------------  -----  \n",
            " 0   TYPE        70368 non-null  object \n",
            " 1   DATE        70368 non-null  object \n",
            " 2   START TIME  70368 non-null  object \n",
            " 3   END TIME    70368 non-null  object \n",
            " 4   USAGE       70368 non-null  float64\n",
            " 5   UNITS       70368 non-null  object \n",
            " 6   COST        70368 non-null  object \n",
            " 7   NOTES       0 non-null      float64\n",
            "dtypes: float64(2), object(6)\n",
            "memory usage: 4.3+ MB\n"
          ]
        }
      ]
    },
    {
      "cell_type": "markdown",
      "source": [
        "# **Data Preprocessing**"
      ],
      "metadata": {
        "id": "29pVmRUPhTZW"
      }
    },
    {
      "cell_type": "markdown",
      "source": [
        "#### Renaming the column names"
      ],
      "metadata": {
        "id": "4rtXxiPvhWTg"
      }
    },
    {
      "cell_type": "code",
      "source": [
        "df.columns = ['type', 'date', 'start_time', 'end_time', 'usage', 'units', 'cost', 'notes']"
      ],
      "metadata": {
        "id": "y26pRRSzGeFX"
      },
      "execution_count": 10,
      "outputs": []
    },
    {
      "cell_type": "markdown",
      "source": [
        "#### Checking if there is any null value or not"
      ],
      "metadata": {
        "id": "xICWDlYuhgQr"
      }
    },
    {
      "cell_type": "code",
      "source": [
        "df.isna().sum()"
      ],
      "metadata": {
        "colab": {
          "base_uri": "https://localhost:8080/"
        },
        "id": "JQzM4DOfHYH_",
        "outputId": "5809a1c1-948f-40a3-d7f4-7335dcbf62f9"
      },
      "execution_count": 11,
      "outputs": [
        {
          "output_type": "execute_result",
          "data": {
            "text/plain": [
              "type              0\n",
              "date              0\n",
              "start_time        0\n",
              "end_time          0\n",
              "usage             0\n",
              "units             0\n",
              "cost              0\n",
              "notes         70368\n",
              "dtype: int64"
            ]
          },
          "metadata": {},
          "execution_count": 11
        }
      ]
    },
    {
      "cell_type": "markdown",
      "source": [
        "#### Dropping unecessary columns"
      ],
      "metadata": {
        "id": "zC9OddmMhrNE"
      }
    },
    {
      "cell_type": "code",
      "source": [
        "df = df.drop(['type', 'units', 'cost', 'notes', 'start_time', 'end_time'], axis=1)"
      ],
      "metadata": {
        "id": "rtttqSnAHCob"
      },
      "execution_count": 12,
      "outputs": []
    },
    {
      "cell_type": "markdown",
      "source": [
        "#### Grouping data by 'date' column"
      ],
      "metadata": {
        "id": "R7g35gdVhuzD"
      }
    },
    {
      "cell_type": "code",
      "source": [
        "df = df.groupby(['date']).sum().reset_index()"
      ],
      "metadata": {
        "id": "MKlA0pwSGsEl"
      },
      "execution_count": 13,
      "outputs": []
    },
    {
      "cell_type": "markdown",
      "source": [
        "#### Changing the 'date' column data type to datetime"
      ],
      "metadata": {
        "id": "sUx35KcXh0FT"
      }
    },
    {
      "cell_type": "code",
      "source": [
        "df['date'] = df['date'].astype('datetime64[ns]')"
      ],
      "metadata": {
        "id": "gEUNXchVHsKZ"
      },
      "execution_count": 14,
      "outputs": []
    },
    {
      "cell_type": "markdown",
      "source": [
        "#### Sorting the dataset by 'date' column"
      ],
      "metadata": {
        "id": "CgFxP-B7h51h"
      }
    },
    {
      "cell_type": "code",
      "source": [
        "df = df.sort_values('date')"
      ],
      "metadata": {
        "id": "N5iWMPJJIX3p"
      },
      "execution_count": 15,
      "outputs": []
    },
    {
      "cell_type": "code",
      "source": [
        "df.head()"
      ],
      "metadata": {
        "colab": {
          "base_uri": "https://localhost:8080/",
          "height": 206
        },
        "id": "H-DoznJnIdMb",
        "outputId": "78e9d20d-7e36-47d2-e981-00ffdef47e14"
      },
      "execution_count": 16,
      "outputs": [
        {
          "output_type": "execute_result",
          "data": {
            "text/plain": [
              "          date  usage\n",
              "90  2016-10-22   4.52\n",
              "93  2016-10-23  23.32\n",
              "96  2016-10-24   7.16\n",
              "99  2016-10-25   8.68\n",
              "101 2016-10-26   5.04"
            ],
            "text/html": [
              "\n",
              "  <div id=\"df-2a1209d8-3771-43c3-8c3e-93827946b42b\">\n",
              "    <div class=\"colab-df-container\">\n",
              "      <div>\n",
              "<style scoped>\n",
              "    .dataframe tbody tr th:only-of-type {\n",
              "        vertical-align: middle;\n",
              "    }\n",
              "\n",
              "    .dataframe tbody tr th {\n",
              "        vertical-align: top;\n",
              "    }\n",
              "\n",
              "    .dataframe thead th {\n",
              "        text-align: right;\n",
              "    }\n",
              "</style>\n",
              "<table border=\"1\" class=\"dataframe\">\n",
              "  <thead>\n",
              "    <tr style=\"text-align: right;\">\n",
              "      <th></th>\n",
              "      <th>date</th>\n",
              "      <th>usage</th>\n",
              "    </tr>\n",
              "  </thead>\n",
              "  <tbody>\n",
              "    <tr>\n",
              "      <th>90</th>\n",
              "      <td>2016-10-22</td>\n",
              "      <td>4.52</td>\n",
              "    </tr>\n",
              "    <tr>\n",
              "      <th>93</th>\n",
              "      <td>2016-10-23</td>\n",
              "      <td>23.32</td>\n",
              "    </tr>\n",
              "    <tr>\n",
              "      <th>96</th>\n",
              "      <td>2016-10-24</td>\n",
              "      <td>7.16</td>\n",
              "    </tr>\n",
              "    <tr>\n",
              "      <th>99</th>\n",
              "      <td>2016-10-25</td>\n",
              "      <td>8.68</td>\n",
              "    </tr>\n",
              "    <tr>\n",
              "      <th>101</th>\n",
              "      <td>2016-10-26</td>\n",
              "      <td>5.04</td>\n",
              "    </tr>\n",
              "  </tbody>\n",
              "</table>\n",
              "</div>\n",
              "      <button class=\"colab-df-convert\" onclick=\"convertToInteractive('df-2a1209d8-3771-43c3-8c3e-93827946b42b')\"\n",
              "              title=\"Convert this dataframe to an interactive table.\"\n",
              "              style=\"display:none;\">\n",
              "        \n",
              "  <svg xmlns=\"http://www.w3.org/2000/svg\" height=\"24px\"viewBox=\"0 0 24 24\"\n",
              "       width=\"24px\">\n",
              "    <path d=\"M0 0h24v24H0V0z\" fill=\"none\"/>\n",
              "    <path d=\"M18.56 5.44l.94 2.06.94-2.06 2.06-.94-2.06-.94-.94-2.06-.94 2.06-2.06.94zm-11 1L8.5 8.5l.94-2.06 2.06-.94-2.06-.94L8.5 2.5l-.94 2.06-2.06.94zm10 10l.94 2.06.94-2.06 2.06-.94-2.06-.94-.94-2.06-.94 2.06-2.06.94z\"/><path d=\"M17.41 7.96l-1.37-1.37c-.4-.4-.92-.59-1.43-.59-.52 0-1.04.2-1.43.59L10.3 9.45l-7.72 7.72c-.78.78-.78 2.05 0 2.83L4 21.41c.39.39.9.59 1.41.59.51 0 1.02-.2 1.41-.59l7.78-7.78 2.81-2.81c.8-.78.8-2.07 0-2.86zM5.41 20L4 18.59l7.72-7.72 1.47 1.35L5.41 20z\"/>\n",
              "  </svg>\n",
              "      </button>\n",
              "      \n",
              "  <style>\n",
              "    .colab-df-container {\n",
              "      display:flex;\n",
              "      flex-wrap:wrap;\n",
              "      gap: 12px;\n",
              "    }\n",
              "\n",
              "    .colab-df-convert {\n",
              "      background-color: #E8F0FE;\n",
              "      border: none;\n",
              "      border-radius: 50%;\n",
              "      cursor: pointer;\n",
              "      display: none;\n",
              "      fill: #1967D2;\n",
              "      height: 32px;\n",
              "      padding: 0 0 0 0;\n",
              "      width: 32px;\n",
              "    }\n",
              "\n",
              "    .colab-df-convert:hover {\n",
              "      background-color: #E2EBFA;\n",
              "      box-shadow: 0px 1px 2px rgba(60, 64, 67, 0.3), 0px 1px 3px 1px rgba(60, 64, 67, 0.15);\n",
              "      fill: #174EA6;\n",
              "    }\n",
              "\n",
              "    [theme=dark] .colab-df-convert {\n",
              "      background-color: #3B4455;\n",
              "      fill: #D2E3FC;\n",
              "    }\n",
              "\n",
              "    [theme=dark] .colab-df-convert:hover {\n",
              "      background-color: #434B5C;\n",
              "      box-shadow: 0px 1px 3px 1px rgba(0, 0, 0, 0.15);\n",
              "      filter: drop-shadow(0px 1px 2px rgba(0, 0, 0, 0.3));\n",
              "      fill: #FFFFFF;\n",
              "    }\n",
              "  </style>\n",
              "\n",
              "      <script>\n",
              "        const buttonEl =\n",
              "          document.querySelector('#df-2a1209d8-3771-43c3-8c3e-93827946b42b button.colab-df-convert');\n",
              "        buttonEl.style.display =\n",
              "          google.colab.kernel.accessAllowed ? 'block' : 'none';\n",
              "\n",
              "        async function convertToInteractive(key) {\n",
              "          const element = document.querySelector('#df-2a1209d8-3771-43c3-8c3e-93827946b42b');\n",
              "          const dataTable =\n",
              "            await google.colab.kernel.invokeFunction('convertToInteractive',\n",
              "                                                     [key], {});\n",
              "          if (!dataTable) return;\n",
              "\n",
              "          const docLinkHtml = 'Like what you see? Visit the ' +\n",
              "            '<a target=\"_blank\" href=https://colab.research.google.com/notebooks/data_table.ipynb>data table notebook</a>'\n",
              "            + ' to learn more about interactive tables.';\n",
              "          element.innerHTML = '';\n",
              "          dataTable['output_type'] = 'display_data';\n",
              "          await google.colab.output.renderOutput(dataTable, element);\n",
              "          const docLink = document.createElement('div');\n",
              "          docLink.innerHTML = docLinkHtml;\n",
              "          element.appendChild(docLink);\n",
              "        }\n",
              "      </script>\n",
              "    </div>\n",
              "  </div>\n",
              "  "
            ]
          },
          "metadata": {},
          "execution_count": 16
        }
      ]
    },
    {
      "cell_type": "code",
      "source": [
        "dates = df['date'].values\n",
        "usage = df['usage'].values\n",
        "\n",
        "plt.figure(figsize=(15,5))\n",
        "plt.plot(dates, usage)\n",
        "plt.title('San Jose Apartment Energy Consumption', fontsize=20)"
      ],
      "metadata": {
        "colab": {
          "base_uri": "https://localhost:8080/",
          "height": 359
        },
        "id": "KoImMjfcIlHG",
        "outputId": "aa4ee62f-1b59-40d1-8224-150809b93859"
      },
      "execution_count": 17,
      "outputs": [
        {
          "output_type": "execute_result",
          "data": {
            "text/plain": [
              "Text(0.5, 1.0, 'San Jose Apartment Energy Consumption')"
            ]
          },
          "metadata": {},
          "execution_count": 17
        },
        {
          "output_type": "display_data",
          "data": {
            "text/plain": [
              "<Figure size 1080x360 with 1 Axes>"
            ],
            "image/png": "[encoded data removed]"
          },
          "metadata": {
            "needs_background": "light"
          }
        }
      ]
    },
    {
      "cell_type": "markdown",
      "source": [
        "#### Data Splitting"
      ],
      "metadata": {
        "id": "Vy9xnWVfiYBR"
      }
    },
    {
      "cell_type": "code",
      "source": [
        "dates_train, dates_test, usage_train, usage_test = train_test_split(dates, usage, test_size=0.2, shuffle=False)"
      ],
      "metadata": {
        "id": "zjX6h16lOUaE"
      },
      "execution_count": 18,
      "outputs": []
    },
    {
      "cell_type": "markdown",
      "source": [
        "#### Changing the format of the dataset so that it can be consumed by the deep learning model"
      ],
      "metadata": {
        "id": "yn-qUy2mh__l"
      }
    },
    {
      "cell_type": "code",
      "source": [
        "def windowed_dataset(series_train, series_val, window_size, batch_size, shuffle_buffer):\n",
        "  series_train = tf.expand_dims(series_train, axis=-1)\n",
        "  ds_train = tf.data.Dataset.from_tensor_slices(series_train)\n",
        "  ds_train = ds_train.window(window_size + 1, shift=1, drop_remainder=True)\n",
        "  ds_train = ds_train.flat_map(lambda w: w.batch(window_size + 1))\n",
        "  ds_train = ds_train.shuffle(shuffle_buffer)\n",
        "  ds_train = ds_train.map(lambda w: (w[:-1], w[-1:]))\n",
        "  ds_train = ds_train.batch(batch_size).prefetch(1)\n",
        "\n",
        "  series_val = tf.expand_dims(series_val, axis=-1)\n",
        "  ds_val = tf.data.Dataset.from_tensor_slices(series_val)\n",
        "  ds_val = ds_val.window(window_size + 1, shift=1, drop_remainder=True)\n",
        "  ds_val = ds_val.flat_map(lambda w: w.batch(window_size + 1))\n",
        "  ds_val = ds_val.shuffle(shuffle_buffer)\n",
        "  ds_val = ds_val.map(lambda w: (w[:-1], w[-1:]))\n",
        "  ds_val = ds_val.batch(batch_size).prefetch(1)\n",
        "\n",
        "  return [ds_train, ds_val]"
      ],
      "metadata": {
        "id": "TEkTWC86JIJu"
      },
      "execution_count": 19,
      "outputs": []
    },
    {
      "cell_type": "code",
      "source": [
        "train_set, test_set = windowed_dataset(usage_train, usage_test, window_size=60, batch_size=100, shuffle_buffer=1000)"
      ],
      "metadata": {
        "id": "YIqViFHyJRD_"
      },
      "execution_count": 20,
      "outputs": []
    },
    {
      "cell_type": "markdown",
      "source": [
        "# **Model Development**"
      ],
      "metadata": {
        "id": "ag5nhrRnimNl"
      }
    },
    {
      "cell_type": "markdown",
      "source": [
        "#### Architecting the model"
      ],
      "metadata": {
        "id": "hVSrNxJbioy-"
      }
    },
    {
      "cell_type": "code",
      "source": [
        "model = tf.keras.models.Sequential([\n",
        "  tf.keras.layers.LSTM(60, return_sequences=True),\n",
        "  tf.keras.layers.LSTM(60),\n",
        "  tf.keras.layers.Dense(30, activation=\"relu\"),\n",
        "  tf.keras.layers.Dense(10, activation=\"relu\"),\n",
        "  tf.keras.layers.Dense(1),\n",
        "])"
      ],
      "metadata": {
        "id": "ZAfsaFMUJZlV"
      },
      "execution_count": 21,
      "outputs": []
    },
    {
      "cell_type": "code",
      "source": [
        "optimizer = tf.keras.optimizers.Adam(learning_rate=0.0001)\n",
        "model.compile(loss=tf.keras.losses.Huber(),\n",
        "              optimizer=optimizer,\n",
        "              metrics=[\"mae\"])"
      ],
      "metadata": {
        "id": "Kw8xSlQ6KwRM"
      },
      "execution_count": 22,
      "outputs": []
    },
    {
      "cell_type": "markdown",
      "source": [
        "#### Creating callback function"
      ],
      "metadata": {
        "id": "dKA_okDAi8Km"
      }
    },
    {
      "cell_type": "code",
      "source": [
        "mae_thres = (df['usage'].max() - df['usage'].min()) * 10/100\n",
        "\n",
        "class customCallback(tf.keras.callbacks.Callback):\n",
        "  def on_epoch_end(self, epoch, logs={}):\n",
        "    if(logs.get('mae') < mae_thres):\n",
        "      print(\"\\nReached MAE < %2.2f%%, stopping training . . .\" %mae_thres)\n",
        "      self.model.stop_training = True\n",
        "\n",
        "callbacks = customCallback()"
      ],
      "metadata": {
        "id": "ZhUMnsHPKOlj"
      },
      "execution_count": 23,
      "outputs": []
    },
    {
      "cell_type": "markdown",
      "source": [
        "#### Training the model"
      ],
      "metadata": {
        "id": "606ZW2PejQ4A"
      }
    },
    {
      "cell_type": "code",
      "source": [
        "history = model.fit(train_set, epochs=500, validation_data=test_set, callbacks=[callbacks])"
      ],
      "metadata": {
        "colab": {
          "base_uri": "https://localhost:8080/"
        },
        "id": "jsh56X0mKlXm",
        "outputId": "4c9b7e78-3c8c-4ee1-f140-5eef5295ab63"
      },
      "execution_count": 24,
      "outputs": [
        {
          "output_type": "stream",
          "name": "stdout",
          "text": [
            "Epoch 1/500\n",
            "6/6 [==============================] - 13s 530ms/step - loss: 11.7508 - mae: 12.2501 - val_loss: 8.0054 - val_mae: 8.5050\n",
            "Epoch 2/500\n",
            "6/6 [==============================] - 0s 23ms/step - loss: 11.6586 - mae: 12.1578 - val_loss: 7.9466 - val_mae: 8.4459\n",
            "Epoch 3/500\n",
            "6/6 [==============================] - 0s 24ms/step - loss: 11.6345 - mae: 12.1335 - val_loss: 7.9435 - val_mae: 8.4427\n",
            "Epoch 4/500\n",
            "6/6 [==============================] - 0s 23ms/step - loss: 11.6270 - mae: 12.1260 - val_loss: 7.9216 - val_mae: 8.4208\n",
            "Epoch 5/500\n",
            "6/6 [==============================] - 0s 23ms/step - loss: 11.6040 - mae: 12.1031 - val_loss: 7.8879 - val_mae: 8.3870\n",
            "Epoch 6/500\n",
            "6/6 [==============================] - 0s 22ms/step - loss: 11.5757 - mae: 12.0748 - val_loss: 7.8632 - val_mae: 8.3622\n",
            "Epoch 7/500\n",
            "6/6 [==============================] - 0s 23ms/step - loss: 11.5431 - mae: 12.0422 - val_loss: 7.8325 - val_mae: 8.3314\n",
            "Epoch 8/500\n",
            "6/6 [==============================] - 0s 23ms/step - loss: 11.4916 - mae: 11.9909 - val_loss: 7.7452 - val_mae: 8.2435\n",
            "Epoch 9/500\n",
            "6/6 [==============================] - 0s 30ms/step - loss: 11.3961 - mae: 11.8956 - val_loss: 7.6522 - val_mae: 8.1498\n",
            "Epoch 10/500\n",
            "6/6 [==============================] - 0s 23ms/step - loss: 11.2964 - mae: 11.7960 - val_loss: 7.5399 - val_mae: 8.0361\n",
            "Epoch 11/500\n",
            "6/6 [==============================] - 0s 23ms/step - loss: 11.1827 - mae: 11.6824 - val_loss: 7.4126 - val_mae: 7.9067\n",
            "Epoch 12/500\n",
            "6/6 [==============================] - 0s 23ms/step - loss: 11.0555 - mae: 11.5553 - val_loss: 7.2792 - val_mae: 7.7708\n",
            "Epoch 13/500\n",
            "6/6 [==============================] - 0s 23ms/step - loss: 10.9164 - mae: 11.4164 - val_loss: 7.1374 - val_mae: 7.6286\n",
            "Epoch 14/500\n",
            "6/6 [==============================] - 0s 23ms/step - loss: 10.7685 - mae: 11.2685 - val_loss: 6.9869 - val_mae: 7.4770\n",
            "Epoch 15/500\n",
            "6/6 [==============================] - 0s 23ms/step - loss: 10.6128 - mae: 11.1128 - val_loss: 6.8310 - val_mae: 7.3190\n",
            "Epoch 16/500\n",
            "6/6 [==============================] - 0s 22ms/step - loss: 10.4493 - mae: 10.9493 - val_loss: 6.6684 - val_mae: 7.1581\n",
            "Epoch 17/500\n",
            "6/6 [==============================] - 0s 23ms/step - loss: 10.2746 - mae: 10.7746 - val_loss: 6.4919 - val_mae: 6.9846\n",
            "Epoch 18/500\n",
            "6/6 [==============================] - 0s 23ms/step - loss: 10.0821 - mae: 10.5821 - val_loss: 6.2998 - val_mae: 6.7941\n",
            "Epoch 19/500\n",
            "6/6 [==============================] - 0s 26ms/step - loss: 9.8758 - mae: 10.3758 - val_loss: 6.0988 - val_mae: 6.5930\n",
            "Epoch 20/500\n",
            "6/6 [==============================] - 0s 23ms/step - loss: 9.6594 - mae: 10.1594 - val_loss: 5.8936 - val_mae: 6.3894\n",
            "Epoch 21/500\n",
            "6/6 [==============================] - 0s 22ms/step - loss: 9.4370 - mae: 9.9370 - val_loss: 5.6872 - val_mae: 6.1850\n",
            "Epoch 22/500\n",
            "6/6 [==============================] - 0s 22ms/step - loss: 9.2125 - mae: 9.7124 - val_loss: 5.4803 - val_mae: 5.9794\n",
            "Epoch 23/500\n",
            "6/6 [==============================] - 0s 22ms/step - loss: 8.9889 - mae: 9.4889 - val_loss: 5.2770 - val_mae: 5.7768\n",
            "Epoch 24/500\n",
            "6/6 [==============================] - 0s 23ms/step - loss: 8.7688 - mae: 9.2682 - val_loss: 5.0774 - val_mae: 5.5772\n",
            "Epoch 25/500\n",
            "6/6 [==============================] - 0s 22ms/step - loss: 8.5528 - mae: 9.0511 - val_loss: 4.8802 - val_mae: 5.3793\n",
            "Epoch 26/500\n",
            "6/6 [==============================] - 0s 23ms/step - loss: 8.3391 - mae: 8.8348 - val_loss: 4.6841 - val_mae: 5.1819\n",
            "Epoch 27/500\n",
            "6/6 [==============================] - 0s 24ms/step - loss: 8.1252 - mae: 8.6188 - val_loss: 4.4872 - val_mae: 4.9831\n",
            "Epoch 28/500\n",
            "6/6 [==============================] - 0s 23ms/step - loss: 7.9119 - mae: 8.4038 - val_loss: 4.2883 - val_mae: 4.7832\n",
            "Epoch 29/500\n",
            "6/6 [==============================] - 0s 31ms/step - loss: 7.6994 - mae: 8.1903 - val_loss: 4.0887 - val_mae: 4.5849\n",
            "Epoch 30/500\n",
            "6/6 [==============================] - 0s 23ms/step - loss: 7.4879 - mae: 7.9755 - val_loss: 3.8906 - val_mae: 4.3863\n",
            "Epoch 31/500\n",
            "6/6 [==============================] - 0s 23ms/step - loss: 7.2831 - mae: 7.7649 - val_loss: 3.6942 - val_mae: 4.1878\n",
            "Epoch 32/500\n",
            "6/6 [==============================] - 0s 22ms/step - loss: 7.0843 - mae: 7.5593 - val_loss: 3.5028 - val_mae: 3.9933\n",
            "Epoch 33/500\n",
            "6/6 [==============================] - 0s 23ms/step - loss: 6.8959 - mae: 7.3650 - val_loss: 3.3179 - val_mae: 3.8087\n",
            "Epoch 34/500\n",
            "6/6 [==============================] - 0s 24ms/step - loss: 6.7216 - mae: 7.1847 - val_loss: 3.1403 - val_mae: 3.6318\n",
            "Epoch 35/500\n",
            "6/6 [==============================] - 0s 22ms/step - loss: 6.5577 - mae: 7.0208 - val_loss: 2.9709 - val_mae: 3.4591\n",
            "Epoch 36/500\n",
            "6/6 [==============================] - 0s 23ms/step - loss: 6.4046 - mae: 6.8679 - val_loss: 2.8106 - val_mae: 3.2911\n",
            "Epoch 37/500\n",
            "6/6 [==============================] - 0s 22ms/step - loss: 6.2673 - mae: 6.7301 - val_loss: 2.6596 - val_mae: 3.1309\n",
            "Epoch 38/500\n",
            "6/6 [==============================] - 0s 23ms/step - loss: 6.1424 - mae: 6.6024 - val_loss: 2.5196 - val_mae: 2.9854\n",
            "Epoch 39/500\n",
            "6/6 [==============================] - 0s 23ms/step - loss: 6.0305 - mae: 6.4896 - val_loss: 2.3906 - val_mae: 2.8557\n",
            "Epoch 40/500\n",
            "6/6 [==============================] - 0s 22ms/step - loss: 5.9284 - mae: 6.3854 - val_loss: 2.2742 - val_mae: 2.7393\n",
            "Epoch 41/500\n",
            "6/6 [==============================] - 0s 23ms/step - loss: 5.8404 - mae: 6.2993 - val_loss: 2.1693 - val_mae: 2.6322\n",
            "Epoch 42/500\n",
            "6/6 [==============================] - 0s 22ms/step - loss: 5.7622 - mae: 6.2226 - val_loss: 2.0766 - val_mae: 2.5357\n",
            "Epoch 43/500\n",
            "6/6 [==============================] - 0s 23ms/step - loss: 5.6944 - mae: 6.1582 - val_loss: 1.9948 - val_mae: 2.4504\n",
            "Epoch 44/500\n",
            "6/6 [==============================] - 0s 23ms/step - loss: 5.6335 - mae: 6.0995 - val_loss: 1.9233 - val_mae: 2.3708\n",
            "Epoch 45/500\n",
            "6/6 [==============================] - 0s 24ms/step - loss: 5.5787 - mae: 6.0454 - val_loss: 1.8612 - val_mae: 2.3008\n",
            "Epoch 46/500\n",
            "6/6 [==============================] - 0s 22ms/step - loss: 5.5318 - mae: 5.9989 - val_loss: 1.8083 - val_mae: 2.2416\n",
            "Epoch 47/500\n",
            "6/6 [==============================] - 0s 22ms/step - loss: 5.4891 - mae: 5.9560 - val_loss: 1.7667 - val_mae: 2.1947\n",
            "Epoch 48/500\n",
            "6/6 [==============================] - 0s 22ms/step - loss: 5.4561 - mae: 5.9238 - val_loss: 1.7303 - val_mae: 2.1527\n",
            "Epoch 49/500\n",
            "6/6 [==============================] - 0s 23ms/step - loss: 5.4220 - mae: 5.8902 - val_loss: 1.7022 - val_mae: 2.1218\n",
            "Epoch 50/500\n",
            "6/6 [==============================] - 0s 23ms/step - loss: 5.3958 - mae: 5.8644 - val_loss: 1.6777 - val_mae: 2.0950\n",
            "Epoch 51/500\n",
            "6/6 [==============================] - 0s 23ms/step - loss: 5.3703 - mae: 5.8395 - val_loss: 1.6581 - val_mae: 2.0728\n",
            "Epoch 52/500\n",
            "6/6 [==============================] - 0s 22ms/step - loss: 5.3475 - mae: 5.8168 - val_loss: 1.6423 - val_mae: 2.0585\n",
            "Epoch 53/500\n",
            "6/6 [==============================] - 0s 23ms/step - loss: 5.3272 - mae: 5.7983 - val_loss: 1.6308 - val_mae: 2.0482\n",
            "Epoch 54/500\n",
            "6/6 [==============================] - 0s 23ms/step - loss: 5.3077 - mae: 5.7796 - val_loss: 1.6227 - val_mae: 2.0402\n",
            "Epoch 55/500\n",
            "6/6 [==============================] - 0s 23ms/step - loss: 5.2929 - mae: 5.7657 - val_loss: 1.6171 - val_mae: 2.0340\n",
            "Epoch 56/500\n",
            "6/6 [==============================] - 0s 23ms/step - loss: 5.2767 - mae: 5.7497 - val_loss: 1.6140 - val_mae: 2.0326\n",
            "Epoch 57/500\n",
            "6/6 [==============================] - 0s 23ms/step - loss: 5.2639 - mae: 5.7369 - val_loss: 1.6133 - val_mae: 2.0351\n",
            "Epoch 58/500\n",
            "6/6 [==============================] - 0s 31ms/step - loss: 5.2520 - mae: 5.7248 - val_loss: 1.6146 - val_mae: 2.0392\n",
            "Epoch 59/500\n",
            "6/6 [==============================] - 0s 23ms/step - loss: 5.2405 - mae: 5.7131 - val_loss: 1.6173 - val_mae: 2.0443\n",
            "Epoch 60/500\n",
            "6/6 [==============================] - 0s 23ms/step - loss: 5.2305 - mae: 5.7028 - val_loss: 1.6202 - val_mae: 2.0493\n",
            "Epoch 61/500\n",
            "6/6 [==============================] - 0s 23ms/step - loss: 5.2227 - mae: 5.6952 - val_loss: 1.6247 - val_mae: 2.0557\n",
            "Epoch 62/500\n",
            "6/6 [==============================] - 0s 22ms/step - loss: 5.2143 - mae: 5.6871 - val_loss: 1.6294 - val_mae: 2.0621\n",
            "Epoch 63/500\n",
            "6/6 [==============================] - 0s 23ms/step - loss: 5.2076 - mae: 5.6807 - val_loss: 1.6354 - val_mae: 2.0694\n",
            "Epoch 64/500\n",
            "6/6 [==============================] - 0s 23ms/step - loss: 5.2003 - mae: 5.6735 - val_loss: 1.6399 - val_mae: 2.0747\n",
            "Epoch 65/500\n",
            "6/6 [==============================] - 0s 25ms/step - loss: 5.1953 - mae: 5.6685 - val_loss: 1.6465 - val_mae: 2.0821\n",
            "Epoch 66/500\n",
            "6/6 [==============================] - 0s 23ms/step - loss: 5.1887 - mae: 5.6617 - val_loss: 1.6516 - val_mae: 2.0878\n",
            "Epoch 67/500\n",
            "6/6 [==============================] - 0s 30ms/step - loss: 5.1832 - mae: 5.6557 - val_loss: 1.6572 - val_mae: 2.0936\n",
            "Epoch 68/500\n",
            "6/6 [==============================] - 0s 23ms/step - loss: 5.1785 - mae: 5.6504 - val_loss: 1.6624 - val_mae: 2.0998\n",
            "Epoch 69/500\n",
            "6/6 [==============================] - 0s 24ms/step - loss: 5.1734 - mae: 5.6450 - val_loss: 1.6678 - val_mae: 2.1064\n",
            "Epoch 70/500\n",
            "6/6 [==============================] - 0s 22ms/step - loss: 5.1682 - mae: 5.6396 - val_loss: 1.6725 - val_mae: 2.1124\n",
            "Epoch 71/500\n",
            "6/6 [==============================] - 0s 24ms/step - loss: 5.1630 - mae: 5.6345 - val_loss: 1.6762 - val_mae: 2.1168\n",
            "Epoch 72/500\n",
            "6/6 [==============================] - 0s 23ms/step - loss: 5.1573 - mae: 5.6288 - val_loss: 1.6791 - val_mae: 2.1204\n",
            "Epoch 73/500\n",
            "6/6 [==============================] - 0s 22ms/step - loss: 5.1521 - mae: 5.6234 - val_loss: 1.6802 - val_mae: 2.1218\n",
            "Epoch 74/500\n",
            "6/6 [==============================] - 0s 23ms/step - loss: 5.1453 - mae: 5.6165 - val_loss: 1.6771 - val_mae: 2.1185\n",
            "Epoch 75/500\n",
            "6/6 [==============================] - 0s 31ms/step - loss: 5.1378 - mae: 5.6091 - val_loss: 1.6731 - val_mae: 2.1142\n",
            "Epoch 76/500\n",
            "6/6 [==============================] - 0s 24ms/step - loss: 5.1295 - mae: 5.6008 - val_loss: 1.6685 - val_mae: 2.1091\n",
            "Epoch 77/500\n",
            "6/6 [==============================] - 0s 23ms/step - loss: 5.1179 - mae: 5.5894 - val_loss: 1.6561 - val_mae: 2.0942\n",
            "Epoch 78/500\n",
            "6/6 [==============================] - 0s 25ms/step - loss: 5.0896 - mae: 5.5611 - val_loss: 1.6125 - val_mae: 2.0413\n",
            "Epoch 79/500\n",
            "6/6 [==============================] - 0s 23ms/step - loss: 5.0218 - mae: 5.4942 - val_loss: 1.6217 - val_mae: 2.0376\n",
            "Epoch 80/500\n",
            "6/6 [==============================] - 0s 23ms/step - loss: 4.9715 - mae: 5.4361 - val_loss: 1.7108 - val_mae: 2.1443\n",
            "Epoch 81/500\n",
            "6/6 [==============================] - 0s 24ms/step - loss: 4.9311 - mae: 5.3955 - val_loss: 1.6838 - val_mae: 2.1181\n",
            "Epoch 82/500\n",
            "6/6 [==============================] - 0s 24ms/step - loss: 4.8910 - mae: 5.3581 - val_loss: 1.6905 - val_mae: 2.1266\n",
            "Epoch 83/500\n",
            "6/6 [==============================] - 0s 23ms/step - loss: 4.8622 - mae: 5.3288 - val_loss: 1.8368 - val_mae: 2.2806\n",
            "Epoch 84/500\n",
            "6/6 [==============================] - 0s 23ms/step - loss: 4.8345 - mae: 5.3013 - val_loss: 1.8341 - val_mae: 2.2783\n",
            "Epoch 85/500\n",
            "6/6 [==============================] - 0s 23ms/step - loss: 4.8038 - mae: 5.2707 - val_loss: 1.7424 - val_mae: 2.1814\n",
            "Epoch 86/500\n",
            "6/6 [==============================] - 0s 24ms/step - loss: 4.7778 - mae: 5.2479 - val_loss: 1.7231 - val_mae: 2.1610\n",
            "Epoch 87/500\n",
            "6/6 [==============================] - 0s 24ms/step - loss: 4.7544 - mae: 5.2228 - val_loss: 1.7853 - val_mae: 2.2267\n",
            "Epoch 88/500\n",
            "6/6 [==============================] - 0s 23ms/step - loss: 4.7262 - mae: 5.1920 - val_loss: 1.7962 - val_mae: 2.2391\n",
            "Epoch 89/500\n",
            "6/6 [==============================] - 0s 24ms/step - loss: 4.7044 - mae: 5.1704 - val_loss: 1.8044 - val_mae: 2.2481\n",
            "Epoch 90/500\n",
            "6/6 [==============================] - 0s 24ms/step - loss: 4.6829 - mae: 5.1497 - val_loss: 1.8017 - val_mae: 2.2453\n",
            "Epoch 91/500\n",
            "6/6 [==============================] - 0s 22ms/step - loss: 4.6670 - mae: 5.1338 - val_loss: 1.7845 - val_mae: 2.2262\n",
            "Epoch 92/500\n",
            "6/6 [==============================] - 0s 23ms/step - loss: 4.6475 - mae: 5.1130 - val_loss: 1.8503 - val_mae: 2.2966\n",
            "Epoch 93/500\n",
            "6/6 [==============================] - 0s 23ms/step - loss: 4.6280 - mae: 5.0892 - val_loss: 1.8112 - val_mae: 2.2555\n",
            "Epoch 94/500\n",
            "6/6 [==============================] - 0s 25ms/step - loss: 4.6096 - mae: 5.0745 - val_loss: 1.8507 - val_mae: 2.2977\n",
            "Epoch 95/500\n",
            "6/6 [==============================] - 0s 23ms/step - loss: 4.5875 - mae: 5.0453 - val_loss: 1.9771 - val_mae: 2.4272\n",
            "Epoch 96/500\n",
            "6/6 [==============================] - 0s 22ms/step - loss: 4.5821 - mae: 5.0409 - val_loss: 1.8601 - val_mae: 2.3058\n",
            "Epoch 97/500\n",
            "6/6 [==============================] - 0s 22ms/step - loss: 4.5635 - mae: 5.0263 - val_loss: 1.9199 - val_mae: 2.3673\n",
            "Epoch 98/500\n",
            "6/6 [==============================] - 0s 23ms/step - loss: 4.5409 - mae: 5.0044 - val_loss: 1.9102 - val_mae: 2.3560\n",
            "Epoch 99/500\n",
            "6/6 [==============================] - 0s 23ms/step - loss: 4.5212 - mae: 4.9831 - val_loss: 1.8967 - val_mae: 2.3431\n",
            "Epoch 100/500\n",
            "6/6 [==============================] - 0s 23ms/step - loss: 4.5051 - mae: 4.9685 - val_loss: 1.9312 - val_mae: 2.3783\n",
            "Epoch 101/500\n",
            "6/6 [==============================] - 0s 24ms/step - loss: 4.4888 - mae: 4.9526 - val_loss: 1.9817 - val_mae: 2.4305\n",
            "Epoch 102/500\n",
            "6/6 [==============================] - 0s 23ms/step - loss: 4.4742 - mae: 4.9363 - val_loss: 1.9654 - val_mae: 2.4137\n",
            "Epoch 103/500\n",
            "6/6 [==============================] - 0s 24ms/step - loss: 4.4579 - mae: 4.9213 - val_loss: 1.8495 - val_mae: 2.2960\n",
            "Epoch 104/500\n",
            "6/6 [==============================] - 0s 23ms/step - loss: 4.4540 - mae: 4.9203 - val_loss: 1.8160 - val_mae: 2.2611\n",
            "Epoch 105/500\n",
            "6/6 [==============================] - 0s 30ms/step - loss: 4.4326 - mae: 4.8974 - val_loss: 1.9267 - val_mae: 2.3728\n",
            "Epoch 106/500\n",
            "6/6 [==============================] - 0s 23ms/step - loss: 4.4229 - mae: 4.8862 - val_loss: 2.1154 - val_mae: 2.5691\n",
            "Epoch 107/500\n",
            "6/6 [==============================] - 0s 23ms/step - loss: 4.4109 - mae: 4.8722 - val_loss: 2.0081 - val_mae: 2.4568\n",
            "Epoch 108/500\n",
            "6/6 [==============================] - 0s 24ms/step - loss: 4.3900 - mae: 4.8515 - val_loss: 1.9674 - val_mae: 2.4146\n",
            "Epoch 109/500\n",
            "6/6 [==============================] - 0s 23ms/step - loss: 4.3818 - mae: 4.8460 - val_loss: 1.9545 - val_mae: 2.4009\n",
            "Epoch 110/500\n",
            "6/6 [==============================] - 0s 23ms/step - loss: 4.3709 - mae: 4.8302 - val_loss: 2.0382 - val_mae: 2.4868\n",
            "Epoch 111/500\n",
            "6/6 [==============================] - 0s 23ms/step - loss: 4.3547 - mae: 4.8153 - val_loss: 2.0546 - val_mae: 2.5040\n",
            "Epoch 112/500\n",
            "6/6 [==============================] - 0s 22ms/step - loss: 4.3451 - mae: 4.8080 - val_loss: 2.0774 - val_mae: 2.5276\n",
            "Epoch 113/500\n",
            "6/6 [==============================] - 0s 22ms/step - loss: 4.3364 - mae: 4.7986 - val_loss: 2.0168 - val_mae: 2.4636\n",
            "Epoch 114/500\n",
            "6/6 [==============================] - 0s 23ms/step - loss: 4.3239 - mae: 4.7855 - val_loss: 1.9730 - val_mae: 2.4205\n",
            "Epoch 115/500\n",
            "6/6 [==============================] - 0s 22ms/step - loss: 4.3141 - mae: 4.7768 - val_loss: 2.0528 - val_mae: 2.5013\n",
            "Epoch 116/500\n",
            "6/6 [==============================] - 0s 23ms/step - loss: 4.3065 - mae: 4.7696 - val_loss: 2.0821 - val_mae: 2.5313\n",
            "Epoch 117/500\n",
            "6/6 [==============================] - 0s 23ms/step - loss: 4.2960 - mae: 4.7567 - val_loss: 1.9770 - val_mae: 2.4268\n",
            "Epoch 118/500\n",
            "6/6 [==============================] - 0s 23ms/step - loss: 4.2805 - mae: 4.7412 - val_loss: 2.0174 - val_mae: 2.4640\n",
            "Epoch 119/500\n",
            "6/6 [==============================] - 0s 24ms/step - loss: 4.2871 - mae: 4.7477 - val_loss: 2.0291 - val_mae: 2.4763\n",
            "Epoch 120/500\n",
            "6/6 [==============================] - 0s 22ms/step - loss: 4.2647 - mae: 4.7262 - val_loss: 2.0267 - val_mae: 2.4764\n",
            "Epoch 121/500\n",
            "6/6 [==============================] - 0s 23ms/step - loss: 4.2584 - mae: 4.7198 - val_loss: 2.0138 - val_mae: 2.4661\n",
            "Epoch 122/500\n",
            "6/6 [==============================] - 0s 24ms/step - loss: 4.2502 - mae: 4.7119 - val_loss: 2.0900 - val_mae: 2.5389\n",
            "Epoch 123/500\n",
            "6/6 [==============================] - 0s 23ms/step - loss: 4.2368 - mae: 4.6966 - val_loss: 2.0567 - val_mae: 2.5056\n",
            "Epoch 124/500\n",
            "6/6 [==============================] - 0s 22ms/step - loss: 4.2387 - mae: 4.7024 - val_loss: 2.0489 - val_mae: 2.4975\n",
            "Epoch 125/500\n",
            "6/6 [==============================] - 0s 23ms/step - loss: 4.2266 - mae: 4.6882 - val_loss: 2.0964 - val_mae: 2.5476\n",
            "Epoch 126/500\n",
            "6/6 [==============================] - 0s 23ms/step - loss: 4.2234 - mae: 4.6838 - val_loss: 1.9924 - val_mae: 2.4404\n",
            "Epoch 127/500\n",
            "6/6 [==============================] - 0s 23ms/step - loss: 4.2081 - mae: 4.6711 - val_loss: 1.9943 - val_mae: 2.4417\n",
            "Epoch 128/500\n",
            "6/6 [==============================] - 0s 24ms/step - loss: 4.1949 - mae: 4.6561 - val_loss: 2.1371 - val_mae: 2.5914\n",
            "Epoch 129/500\n",
            "6/6 [==============================] - 0s 24ms/step - loss: 4.1831 - mae: 4.6428 - val_loss: 2.1680 - val_mae: 2.6230\n",
            "Epoch 130/500\n",
            "6/6 [==============================] - 0s 23ms/step - loss: 4.1731 - mae: 4.6332 - val_loss: 2.0484 - val_mae: 2.4985\n",
            "Epoch 131/500\n",
            "6/6 [==============================] - 0s 23ms/step - loss: 4.1642 - mae: 4.6255 - val_loss: 1.9848 - val_mae: 2.4330\n",
            "Epoch 132/500\n",
            "6/6 [==============================] - 0s 24ms/step - loss: 4.1521 - mae: 4.6138 - val_loss: 1.9511 - val_mae: 2.3977\n",
            "Epoch 133/500\n",
            "6/6 [==============================] - 0s 24ms/step - loss: 4.1632 - mae: 4.6253 - val_loss: 1.9712 - val_mae: 2.4164\n",
            "Epoch 134/500\n",
            "6/6 [==============================] - 0s 22ms/step - loss: 4.1390 - mae: 4.6029 - val_loss: 2.0712 - val_mae: 2.5211\n",
            "Epoch 135/500\n",
            "6/6 [==============================] - 0s 23ms/step - loss: 4.1282 - mae: 4.5913 - val_loss: 2.1668 - val_mae: 2.6233\n",
            "Epoch 136/500\n",
            "6/6 [==============================] - 0s 24ms/step - loss: 4.1191 - mae: 4.5811 - val_loss: 2.1184 - val_mae: 2.5707\n",
            "Epoch 137/500\n",
            "6/6 [==============================] - 0s 23ms/step - loss: 4.1116 - mae: 4.5736 - val_loss: 2.1040 - val_mae: 2.5556\n",
            "Epoch 138/500\n",
            "6/6 [==============================] - 0s 23ms/step - loss: 4.0979 - mae: 4.5588 - val_loss: 2.1120 - val_mae: 2.5639\n",
            "Epoch 139/500\n",
            "6/6 [==============================] - 0s 24ms/step - loss: 4.1119 - mae: 4.5726 - val_loss: 2.0253 - val_mae: 2.4735\n",
            "Epoch 140/500\n",
            "6/6 [==============================] - 0s 23ms/step - loss: 4.0950 - mae: 4.5549 - val_loss: 2.0623 - val_mae: 2.5112\n",
            "Epoch 141/500\n",
            "6/6 [==============================] - 0s 23ms/step - loss: 4.0874 - mae: 4.5508 - val_loss: 2.0433 - val_mae: 2.4925\n",
            "Epoch 142/500\n",
            "6/6 [==============================] - 0s 23ms/step - loss: 4.0799 - mae: 4.5440 - val_loss: 2.1434 - val_mae: 2.5996\n",
            "Epoch 143/500\n",
            "6/6 [==============================] - 0s 23ms/step - loss: 4.0689 - mae: 4.5326 - val_loss: 2.2149 - val_mae: 2.6731\n",
            "Epoch 144/500\n",
            "6/6 [==============================] - 0s 23ms/step - loss: 4.0749 - mae: 4.5365 - val_loss: 2.1685 - val_mae: 2.6249\n",
            "Epoch 145/500\n",
            "6/6 [==============================] - 0s 24ms/step - loss: 4.0897 - mae: 4.5515 - val_loss: 2.0496 - val_mae: 2.5000\n",
            "Epoch 146/500\n",
            "6/6 [==============================] - 0s 23ms/step - loss: 4.0463 - mae: 4.5082 - val_loss: 1.9763 - val_mae: 2.4222\n",
            "Epoch 147/500\n",
            "6/6 [==============================] - 0s 24ms/step - loss: 4.0375 - mae: 4.5024 - val_loss: 2.0636 - val_mae: 2.5157\n",
            "Epoch 148/500\n",
            "6/6 [==============================] - 0s 23ms/step - loss: 4.0353 - mae: 4.4969 - val_loss: 2.1281 - val_mae: 2.5822\n",
            "Epoch 149/500\n",
            "6/6 [==============================] - 0s 23ms/step - loss: 4.0223 - mae: 4.4813 - val_loss: 1.9958 - val_mae: 2.4474\n",
            "Epoch 150/500\n",
            "6/6 [==============================] - 0s 22ms/step - loss: 4.0271 - mae: 4.4914 - val_loss: 1.9831 - val_mae: 2.4331\n",
            "Epoch 151/500\n",
            "6/6 [==============================] - 0s 27ms/step - loss: 4.0099 - mae: 4.4729 - val_loss: 2.0967 - val_mae: 2.5505\n",
            "Epoch 152/500\n",
            "6/6 [==============================] - 0s 23ms/step - loss: 4.0172 - mae: 4.4757 - val_loss: 2.1914 - val_mae: 2.6482\n",
            "Epoch 153/500\n",
            "6/6 [==============================] - 0s 24ms/step - loss: 4.0030 - mae: 4.4613 - val_loss: 2.0920 - val_mae: 2.5460\n",
            "Epoch 154/500\n",
            "6/6 [==============================] - 0s 24ms/step - loss: 3.9807 - mae: 4.4406 - val_loss: 2.0855 - val_mae: 2.5385\n",
            "Epoch 155/500\n",
            "6/6 [==============================] - 0s 24ms/step - loss: 3.9838 - mae: 4.4454 - val_loss: 2.0910 - val_mae: 2.5447\n",
            "Epoch 156/500\n",
            "6/6 [==============================] - 0s 23ms/step - loss: 3.9722 - mae: 4.4316 - val_loss: 2.1008 - val_mae: 2.5553\n",
            "Epoch 157/500\n",
            "6/6 [==============================] - 0s 24ms/step - loss: 3.9619 - mae: 4.4200 - val_loss: 2.0452 - val_mae: 2.4963\n",
            "Epoch 158/500\n",
            "6/6 [==============================] - 0s 23ms/step - loss: 3.9549 - mae: 4.4140 - val_loss: 2.0141 - val_mae: 2.4613\n",
            "Epoch 159/500\n",
            "6/6 [==============================] - 0s 23ms/step - loss: 3.9518 - mae: 4.4114 - val_loss: 2.0293 - val_mae: 2.4792\n",
            "Epoch 160/500\n",
            "6/6 [==============================] - 0s 25ms/step - loss: 3.9490 - mae: 4.4093 - val_loss: 2.0838 - val_mae: 2.5382\n",
            "Epoch 161/500\n",
            "6/6 [==============================] - 0s 31ms/step - loss: 3.9436 - mae: 4.4017 - val_loss: 2.0765 - val_mae: 2.5304\n",
            "Epoch 162/500\n",
            "6/6 [==============================] - 0s 23ms/step - loss: 3.9306 - mae: 4.3891 - val_loss: 2.0375 - val_mae: 2.4875\n",
            "Epoch 163/500\n",
            "6/6 [==============================] - 0s 24ms/step - loss: 3.9306 - mae: 4.3905 - val_loss: 2.0662 - val_mae: 2.5189\n",
            "Epoch 164/500\n",
            "6/6 [==============================] - 0s 23ms/step - loss: 3.9174 - mae: 4.3756 - val_loss: 2.1117 - val_mae: 2.5659\n",
            "Epoch 165/500\n",
            "6/6 [==============================] - 0s 23ms/step - loss: 3.9181 - mae: 4.3750 - val_loss: 2.0065 - val_mae: 2.4549\n",
            "Epoch 166/500\n",
            "6/6 [==============================] - 0s 23ms/step - loss: 3.8991 - mae: 4.3585 - val_loss: 1.9196 - val_mae: 2.3668\n",
            "Epoch 167/500\n",
            "6/6 [==============================] - 0s 22ms/step - loss: 3.9183 - mae: 4.3762 - val_loss: 1.9774 - val_mae: 2.4225\n",
            "Epoch 168/500\n",
            "6/6 [==============================] - 0s 23ms/step - loss: 3.9159 - mae: 4.3750 - val_loss: 1.9243 - val_mae: 2.3704\n",
            "Epoch 169/500\n",
            "6/6 [==============================] - 0s 24ms/step - loss: 3.8850 - mae: 4.3461 - val_loss: 1.9833 - val_mae: 2.4304\n",
            "Epoch 170/500\n",
            "6/6 [==============================] - 0s 24ms/step - loss: 3.8805 - mae: 4.3395 - val_loss: 2.1175 - val_mae: 2.5732\n",
            "Epoch 171/500\n",
            "6/6 [==============================] - 0s 25ms/step - loss: 3.8702 - mae: 4.3298 - val_loss: 2.0374 - val_mae: 2.4892\n",
            "Epoch 172/500\n",
            "6/6 [==============================] - 0s 23ms/step - loss: 3.8561 - mae: 4.3148 - val_loss: 1.9703 - val_mae: 2.4159\n",
            "Epoch 173/500\n",
            "6/6 [==============================] - 0s 23ms/step - loss: 3.8510 - mae: 4.3120 - val_loss: 1.8755 - val_mae: 2.3235\n",
            "Epoch 174/500\n",
            "6/6 [==============================] - 0s 23ms/step - loss: 3.8485 - mae: 4.3099 - val_loss: 1.9528 - val_mae: 2.3995\n",
            "Epoch 175/500\n",
            "6/6 [==============================] - 0s 23ms/step - loss: 3.8410 - mae: 4.3000 - val_loss: 2.0751 - val_mae: 2.5281\n",
            "Epoch 176/500\n",
            "6/6 [==============================] - 0s 23ms/step - loss: 3.8303 - mae: 4.2884 - val_loss: 2.0852 - val_mae: 2.5392\n",
            "Epoch 177/500\n",
            "6/6 [==============================] - 0s 23ms/step - loss: 3.8382 - mae: 4.2937 - val_loss: 2.0777 - val_mae: 2.5313\n",
            "Epoch 178/500\n",
            "6/6 [==============================] - 0s 36ms/step - loss: 3.8232 - mae: 4.2813 - val_loss: 2.0554 - val_mae: 2.5077\n",
            "Epoch 179/500\n",
            "6/6 [==============================] - 0s 24ms/step - loss: 3.8268 - mae: 4.2862 - val_loss: 2.0980 - val_mae: 2.5523\n",
            "Epoch 180/500\n",
            "6/6 [==============================] - 0s 22ms/step - loss: 3.8143 - mae: 4.2699 - val_loss: 2.0967 - val_mae: 2.5499\n",
            "Epoch 181/500\n",
            "6/6 [==============================] - 0s 30ms/step - loss: 3.8064 - mae: 4.2642 - val_loss: 2.0214 - val_mae: 2.4718\n",
            "Epoch 182/500\n",
            "6/6 [==============================] - 0s 25ms/step - loss: 3.7972 - mae: 4.2570 - val_loss: 2.1535 - val_mae: 2.6078\n",
            "Epoch 183/500\n",
            "6/6 [==============================] - 0s 23ms/step - loss: 3.7852 - mae: 4.2409 - val_loss: 2.0785 - val_mae: 2.5313\n",
            "Epoch 184/500\n",
            "6/6 [==============================] - 0s 24ms/step - loss: 3.7788 - mae: 4.2358 - val_loss: 2.0330 - val_mae: 2.4811\n",
            "Epoch 185/500\n",
            "6/6 [==============================] - 0s 24ms/step - loss: 3.7727 - mae: 4.2335 - val_loss: 2.0163 - val_mae: 2.4644\n",
            "Epoch 186/500\n",
            "6/6 [==============================] - 0s 25ms/step - loss: 3.7811 - mae: 4.2416 - val_loss: 2.1297 - val_mae: 2.5833\n",
            "Epoch 187/500\n",
            "6/6 [==============================] - 0s 23ms/step - loss: 3.7691 - mae: 4.2307 - val_loss: 2.2128 - val_mae: 2.6666\n",
            "Epoch 188/500\n",
            "6/6 [==============================] - 0s 26ms/step - loss: 3.7584 - mae: 4.2178 - val_loss: 2.0800 - val_mae: 2.5325\n",
            "Epoch 189/500\n",
            "6/6 [==============================] - 0s 24ms/step - loss: 3.7464 - mae: 4.2038 - val_loss: 2.0657 - val_mae: 2.5180\n",
            "Epoch 190/500\n",
            "6/6 [==============================] - 0s 23ms/step - loss: 3.7391 - mae: 4.1969 - val_loss: 2.0691 - val_mae: 2.5216\n",
            "Epoch 191/500\n",
            "6/6 [==============================] - 0s 24ms/step - loss: 3.7248 - mae: 4.1842 - val_loss: 2.0877 - val_mae: 2.5389\n",
            "Epoch 192/500\n",
            "6/6 [==============================] - 0s 24ms/step - loss: 3.7176 - mae: 4.1791 - val_loss: 2.0353 - val_mae: 2.4830\n",
            "Epoch 193/500\n",
            "6/6 [==============================] - 0s 24ms/step - loss: 3.7025 - mae: 4.1621 - val_loss: 2.0639 - val_mae: 2.5114\n",
            "Epoch 194/500\n",
            "6/6 [==============================] - 0s 23ms/step - loss: 3.6970 - mae: 4.1548 - val_loss: 2.0254 - val_mae: 2.4733\n",
            "Epoch 195/500\n",
            "6/6 [==============================] - 0s 23ms/step - loss: 3.6939 - mae: 4.1553 - val_loss: 1.9915 - val_mae: 2.4401\n",
            "Epoch 196/500\n",
            "6/6 [==============================] - 0s 23ms/step - loss: 3.6825 - mae: 4.1462 - val_loss: 1.9634 - val_mae: 2.4142\n",
            "Epoch 197/500\n",
            "6/6 [==============================] - 0s 23ms/step - loss: 3.6601 - mae: 4.1182 - val_loss: 1.9883 - val_mae: 2.4400\n",
            "Epoch 198/500\n",
            "6/6 [==============================] - 0s 23ms/step - loss: 3.6726 - mae: 4.1309 - val_loss: 2.0797 - val_mae: 2.5315\n",
            "Epoch 199/500\n",
            "6/6 [==============================] - 0s 24ms/step - loss: 3.6430 - mae: 4.1016 - val_loss: 2.0770 - val_mae: 2.5285\n",
            "Epoch 200/500\n",
            "6/6 [==============================] - 0s 23ms/step - loss: 3.6394 - mae: 4.1007 - val_loss: 2.0344 - val_mae: 2.4857\n",
            "Epoch 201/500\n",
            "6/6 [==============================] - 0s 24ms/step - loss: 3.6376 - mae: 4.0979 - val_loss: 2.0267 - val_mae: 2.4774\n",
            "Epoch 202/500\n",
            "6/6 [==============================] - 0s 23ms/step - loss: 3.6356 - mae: 4.0968 - val_loss: 2.0606 - val_mae: 2.5122\n",
            "Epoch 203/500\n",
            "6/6 [==============================] - 0s 23ms/step - loss: 3.6193 - mae: 4.0784 - val_loss: 2.0655 - val_mae: 2.5167\n",
            "Epoch 204/500\n",
            "6/6 [==============================] - 0s 25ms/step - loss: 3.6056 - mae: 4.0621 - val_loss: 2.0547 - val_mae: 2.5049\n",
            "Epoch 205/500\n",
            "6/6 [==============================] - 0s 23ms/step - loss: 3.6036 - mae: 4.0613 - val_loss: 1.9998 - val_mae: 2.4472\n",
            "Epoch 206/500\n",
            "6/6 [==============================] - 0s 24ms/step - loss: 3.5913 - mae: 4.0490 - val_loss: 2.0244 - val_mae: 2.4705\n",
            "Epoch 207/500\n",
            "6/6 [==============================] - 0s 24ms/step - loss: 3.5894 - mae: 4.0482 - val_loss: 2.0558 - val_mae: 2.5013\n",
            "Epoch 208/500\n",
            "6/6 [==============================] - 0s 24ms/step - loss: 3.5735 - mae: 4.0288 - val_loss: 2.1591 - val_mae: 2.6134\n",
            "Epoch 209/500\n",
            "6/6 [==============================] - 0s 24ms/step - loss: 3.5631 - mae: 4.0154 - val_loss: 2.1293 - val_mae: 2.5827\n",
            "Epoch 210/500\n",
            "6/6 [==============================] - 0s 23ms/step - loss: 3.5548 - mae: 4.0078 - val_loss: 2.0351 - val_mae: 2.4813\n",
            "Epoch 211/500\n",
            "6/6 [==============================] - 0s 24ms/step - loss: 3.5457 - mae: 3.9991 - val_loss: 1.9850 - val_mae: 2.4315\n",
            "Epoch 212/500\n",
            "6/6 [==============================] - 0s 25ms/step - loss: 3.5375 - mae: 3.9898 - val_loss: 2.0762 - val_mae: 2.5243\n",
            "Epoch 213/500\n",
            "6/6 [==============================] - 0s 23ms/step - loss: 3.5341 - mae: 3.9858 - val_loss: 2.0421 - val_mae: 2.4879\n",
            "Epoch 214/500\n",
            "6/6 [==============================] - 0s 24ms/step - loss: 3.5293 - mae: 3.9808 - val_loss: 2.1323 - val_mae: 2.5882\n",
            "Epoch 215/500\n",
            "5/6 [========================>.....] - ETA: 0s - loss: 3.4828 - mae: 3.9318\n",
            "Reached MAE < 3.97%, stopping training . . .\n",
            "6/6 [==============================] - 0s 24ms/step - loss: 3.5094 - mae: 3.9592 - val_loss: 1.9712 - val_mae: 2.4167\n"
          ]
        }
      ]
    },
    {
      "cell_type": "markdown",
      "source": [
        "#### Creating MAE plot"
      ],
      "metadata": {
        "id": "G2Zpi8JajT6x"
      }
    },
    {
      "cell_type": "code",
      "source": [
        "def plot_metric(history, metric):\n",
        "  train_metrics = history.history[metric]\n",
        "  val_metrics = history.history['val_' + metric]\n",
        "  epochs = range(1, len(train_metrics) + 1)\n",
        "  plt.rcParams[\"figure.figsize\"] = (6,8)\n",
        "  plt.plot(epochs, train_metrics)\n",
        "  plt.plot(epochs, val_metrics)\n",
        "  plt.title('Training and Validation ' + metric.upper())\n",
        "  plt.xlabel(\"Epochs\")\n",
        "  plt.ylabel(metric)\n",
        "  plt.legend([\"train_\" + metric, 'val_' + metric], loc=\"best\")\n",
        "  plt.show()"
      ],
      "metadata": {
        "id": "uwKQow-cQ0IV"
      },
      "execution_count": 25,
      "outputs": []
    },
    {
      "cell_type": "code",
      "source": [
        "plot_metric(history, 'mae')"
      ],
      "metadata": {
        "colab": {
          "base_uri": "https://localhost:8080/",
          "height": 513
        },
        "id": "-QsQbbNijfr2",
        "outputId": "b1cbab2c-d29d-4256-ef6d-d85b515ef073"
      },
      "execution_count": 26,
      "outputs": [
        {
          "output_type": "display_data",
          "data": {
            "text/plain": [
              "<Figure size 432x576 with 1 Axes>"
            ],
            "image/png": "[encoded data removed]"
          },
          "metadata": {
            "needs_background": "light"
          }
        }
      ]
    }
  ]
}